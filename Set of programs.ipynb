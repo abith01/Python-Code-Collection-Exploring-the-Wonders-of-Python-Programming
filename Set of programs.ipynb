{
 "cells": [
  {
   "cell_type": "markdown",
   "metadata": {},
   "source": [
    "# PROGRAM 1\n",
    "\n",
    "1. Write a python program to split the restaurant bill among friends.add 20% tax to the total bill and display the bill for each friend.\n",
    "\n",
    "AIM: To write a python program to split the restaurant bill among friends.add 20% tax to the total bill and display the bill for each friend.\\\n",
    "\n",
    "ALGORITHM:\n",
    "\n",
    "STEP 1:Getting input from user for bill amount\\\n",
    "STEP 2:Getting input from user for persons\\\n",
    "STEP 3:Calculating the tax Step\\\n",
    "4:Calculating per person amount Step\\\n",
    "5:Printing the ouptut"
   ]
  },
  {
   "cell_type": "code",
   "execution_count": 1,
   "metadata": {},
   "outputs": [
    {
     "name": "stdout",
     "output_type": "stream",
     "text": [
      "OUTPUT:\n",
      "Enter the bill amount:3000\n",
      "How many persons went:6\n",
      "The amount to be paid per individual is: 600.0 💰💰💸💸\n"
     ]
    }
   ],
   "source": [
    "print(\"OUTPUT:\")\n",
    "restaurant_bill=int(input(\"Enter the bill amount:\"))\n",
    "person=int(input(\"How many persons went:\"))\n",
    "tax=20/100\n",
    "final_tax= restaurant_bill*tax\n",
    "calculating_the_amount =(restaurant_bill+final_tax)/person\n",
    "print(\"The amount to be paid per individual is:\",calculating_the_amount,\"💰💰💸💸\")"
   ]
  },
  {
   "cell_type": "markdown",
   "metadata": {},
   "source": [
    "Result: Thus the above program is split the restaurant bill among friends.add 20% tax to the total bill and display the bill for each friend."
   ]
  },
  {
   "cell_type": "markdown",
   "metadata": {},
   "source": [
    "# PROGRAM 2\n",
    "\n",
    "2.Create a BMI calculator using python code. Refer : BMI = Weight/height **2\\\n",
    "\n",
    "\n",
    "AIM: To create a BMI calculator using python code. Refer : BMI = Weight/height **2\n",
    "\\\n",
    "ALGORITHM:\n",
    "\n",
    "STEP 1:Getting input from the user weight\\\n",
    "STEP 2:Getting input from the user height\\\n",
    "Step 3:Calculating the bmi\\\n",
    "Step 4:Printing the if statement\\\n",
    "Step 5:Using the if statement\\\n",
    "Step 6:Using the elif statement\\\n",
    "step 7:Using else statement "
   ]
  },
  {
   "cell_type": "code",
   "execution_count": 2,
   "metadata": {},
   "outputs": [
    {
     "name": "stdout",
     "output_type": "stream",
     "text": [
      "OUTPUT:\n",
      "Enter your weight in kg:45\n",
      "Enter your height in cm:163\n",
      "Your BMI is: 16.937031879257784\n",
      "You are lean, try to have more proteins..🏋️‍♀️🏋️‍♀️🏋️‍♂️🏋️‍♀️\n"
     ]
    }
   ],
   "source": [
    "print(\"OUTPUT:\")\n",
    "weight=int(input(\"Enter your weight in kg:\"))\n",
    "height=int(input(\"Enter your height in cm:\"))\n",
    "b=height/100\n",
    "bmi_cal=weight/(b**2)\n",
    "print(\"Your BMI is:\",bmi_cal)\n",
    "if (bmi_cal>25.0):\n",
    "    print(\"you are obese,try to do workout.....Try hard\")\n",
    "elif(bmi_cal<18.5):\n",
    "    print(\"You are lean, try to have more proteins..🏋️‍♀️🏋️‍♀️🏋️‍♂️🏋️‍♀️\")\n",
    "else:\n",
    "    print(\"You are in correct position, Maintain well\")"
   ]
  },
  {
   "cell_type": "markdown",
   "metadata": {},
   "source": [
    "Result: The above program BMI calculator using python code."
   ]
  },
  {
   "cell_type": "markdown",
   "metadata": {},
   "source": [
    "# PROGRAM 3\n",
    "\n",
    "3. Create a python program to print the date in this format (month/day/year) \\\n",
    "\n",
    "AIM: TO Create a python program to print the date in this format (month/day/year) \\\n",
    "\n",
    "\n",
    " ALGORITHM:\\\n",
    " \n",
    "STEP 1:Getting the input for day\\ \n",
    "STEP 2: Getting the input for month\\\n",
    "STEP 3:Getting the input for year\\\n",
    "STEP 4:Printing the output"
   ]
  },
  {
   "cell_type": "code",
   "execution_count": 4,
   "metadata": {},
   "outputs": [
    {
     "name": "stdout",
     "output_type": "stream",
     "text": [
      "output\n",
      "enter the date: 01\n",
      "enter the month: 04\n",
      "enter the year: 2002\n",
      "DATE :  4 / 1 / 2002 🗓🗓\n"
     ]
    }
   ],
   "source": [
    "print(\"output\")\n",
    "day=int(input(\"enter the date: \"))\n",
    "month=int(input(\"enter the month: \"))\n",
    "year=int(input(\"enter the year: \"))\n",
    "print(\"DATE : \",month,\"/\",day,\"/\",year,'🗓🗓')"
   ]
  },
  {
   "cell_type": "markdown",
   "metadata": {},
   "source": [
    "Result: The above program is to Create a python program to print the date in this format"
   ]
  },
  {
   "cell_type": "markdown",
   "metadata": {},
   "source": [
    "# PROGRAM 4\n",
    "\n",
    "4. Create a program to convert minutes to seconds and seconds to hours.\\\n",
    "\n",
    "AIM: To create a program to convert minutes to seconds and seconds to hours.\\\n",
    "\n",
    "ALGORITHM:\\\n",
    "\n",
    "STEP 1:Getting the input from the user for converting minutes into seconds\\\n",
    "STEP 2:Gettinf the input from user converting seconds into hours\\\n",
    "STEP 3:calculating for seconds\\\n",
    "Step 4:Printing the output"
   ]
  },
  {
   "cell_type": "code",
   "execution_count": 6,
   "metadata": {},
   "outputs": [
    {
     "name": "stdout",
     "output_type": "stream",
     "text": [
      "OUTPUT:\n",
      "enter the minutes  you want to convert into seconds:3\n",
      "enter the seconds you want to convert into hours:1234567\n",
      "The converted time is 180\n",
      "The converted time is 342.9352777777778\n"
     ]
    }
   ],
   "source": [
    "print(\"OUTPUT:\")\n",
    "z=int(input(\"enter the minutes  you want to convert into seconds:\"))\n",
    "x=int(input(\"enter the seconds you want to convert into hours:\"))\n",
    "a= z*60\n",
    "b=x/3600\n",
    "print(\"The converted time is\",a)\n",
    "print(\"The converted time is\",b)"
   ]
  },
  {
   "cell_type": "markdown",
   "metadata": {},
   "source": [
    "Result: The above program is create a program to convert minutes to seconds and seconds to hours"
   ]
  },
  {
   "cell_type": "markdown",
   "metadata": {},
   "source": [
    "# PROGRAM 5\n",
    "\n",
    "5. Write a python program for calculating employee total salary, when the employee service is more than 5 years then add 5% bonus.\\\n",
    "\n",
    "\n",
    "AIM: To write a python program for calculating employee total salary, when the employee service is more than 5 years then add 5% bonus.\\ \n",
    "\n",
    "ALGORITHM:\\\n",
    "\n",
    "STEP 1:Getting input for salary \\\n",
    "STEP 2:Getting the input from user for experience\\\n",
    "STEP 3:Creating the if loop\\\n",
    "STEP 4:Doing calculations\\\n",
    "STEP 5:Using else statement\\\n",
    "STEP 3:Printing the output"
   ]
  },
  {
   "cell_type": "code",
   "execution_count": 7,
   "metadata": {},
   "outputs": [
    {
     "name": "stdout",
     "output_type": "stream",
     "text": [
      "OUTPUT:\n",
      "enter your salary amount:40000\n",
      "enter your work experience years:7\n",
      "You are eligible for increment👨‍💻👩‍💻\n",
      "your salary is 💸💸💸: 42000.0\n"
     ]
    }
   ],
   "source": [
    "print(\"OUTPUT:\")\n",
    "salary=int(input(\"enter your salary amount:\"))\n",
    "years=int(input(\"enter your work experience years:\"))\n",
    "if(years>=5):\n",
    "    add=salary*5/100\n",
    "    total=add+salary\n",
    "    print(\"You are eligible for increment👨‍💻👩‍💻\")\n",
    "    print(\"your salary is 💸💸💸:\",total)\n",
    "else:\n",
    "    print(\"sorry, you are not eligible for increment\")\n",
    "    print(\"you need more work experience\")"
   ]
  },
  {
   "cell_type": "markdown",
   "metadata": {},
   "source": [
    "Result : The above program is executed for calculating employee total salary, when the employee service is more than 5 years then add 5% bonus."
   ]
  },
  {
   "cell_type": "markdown",
   "metadata": {},
   "source": [
    "# PROGRAM 6\n",
    "\n",
    "6. Write a python program to count number of digits in a given number.\\\n",
    "\n",
    "AIM: To write a python program to count number of digits in a given number.\\\n",
    "\n",
    "ALGORITHM:\\\n",
    "\n",
    "STEP 1:Getting the input from the user\\\n",
    "STEP 2:Printing the output of the letter.\n"
   ]
  },
  {
   "cell_type": "code",
   "execution_count": 8,
   "metadata": {},
   "outputs": [
    {
     "name": "stdout",
     "output_type": "stream",
     "text": [
      "OUTPUT:\n",
      "enter the numbers...i will tell you how many numbers you entered:vcxbnxfnbsdjfnb\n",
      "The count of the number is 15\n"
     ]
    }
   ],
   "source": [
    "print(\"OUTPUT:\")\n",
    "num=(input(\"enter the numbers...i will tell you how many numbers you entered:\"))\n",
    "print(\"The count of the number is\",len(num))"
   ]
  },
  {
   "cell_type": "markdown",
   "metadata": {},
   "source": [
    "Result: The above code is executed to write a python program to count number of digits in a given number "
   ]
  },
  {
   "cell_type": "markdown",
   "metadata": {},
   "source": [
    "# PROGRAM 7\n",
    "\n",
    "7. Write a python program to print all the numbers except multiples of 5.\n",
    "\n",
    "AIM: To write a python program to print all the numbers except multiples of 5.\\\n",
    "\n",
    "ALGORITHM:\\\n",
    "\n",
    "STEP 1:Creating the for loop for 1 to 1000\\\n",
    "STEP 2:Creating the if statement with condition\\\n",
    "STEP 3:Creating the else statement"
   ]
  },
  {
   "cell_type": "code",
   "execution_count": 9,
   "metadata": {},
   "outputs": [
    {
     "name": "stdout",
     "output_type": "stream",
     "text": [
      "OUTPUT:\n",
      "1,2,3,4,6,7,8,9,11,12,13,14,16,17,18,19,21,22,23,24,26,27,28,29,31,32,33,34,36,37,38,39,41,42,43,44,46,47,48,49,51,52,53,54,56,57,58,59,61,62,63,64,66,67,68,69,71,72,73,74,76,77,78,79,81,82,83,84,86,87,88,89,91,92,93,94,96,97,98,99,101,102,103,104,106,107,108,109,111,112,113,114,116,117,118,119,121,122,123,124,126,127,128,129,131,132,133,134,136,137,138,139,141,142,143,144,146,147,148,149,151,152,153,154,156,157,158,159,161,162,163,164,166,167,168,169,171,172,173,174,176,177,178,179,181,182,183,184,186,187,188,189,191,192,193,194,196,197,198,199,201,202,203,204,206,207,208,209,211,212,213,214,216,217,218,219,221,222,223,224,226,227,228,229,231,232,233,234,236,237,238,239,241,242,243,244,246,247,248,249,251,252,253,254,256,257,258,259,261,262,263,264,266,267,268,269,271,272,273,274,276,277,278,279,281,282,283,284,286,287,288,289,291,292,293,294,296,297,298,299,301,302,303,304,306,307,308,309,311,312,313,314,316,317,318,319,321,322,323,324,326,327,328,329,331,332,333,334,336,337,338,339,341,342,343,344,346,347,348,349,351,352,353,354,356,357,358,359,361,362,363,364,366,367,368,369,371,372,373,374,376,377,378,379,381,382,383,384,386,387,388,389,391,392,393,394,396,397,398,399,401,402,403,404,406,407,408,409,411,412,413,414,416,417,418,419,421,422,423,424,426,427,428,429,431,432,433,434,436,437,438,439,441,442,443,444,446,447,448,449,451,452,453,454,456,457,458,459,461,462,463,464,466,467,468,469,471,472,473,474,476,477,478,479,481,482,483,484,486,487,488,489,491,492,493,494,496,497,498,499,501,502,503,504,506,507,508,509,511,512,513,514,516,517,518,519,521,522,523,524,526,527,528,529,531,532,533,534,536,537,538,539,541,542,543,544,546,547,548,549,551,552,553,554,556,557,558,559,561,562,563,564,566,567,568,569,571,572,573,574,576,577,578,579,581,582,583,584,586,587,588,589,591,592,593,594,596,597,598,599,601,602,603,604,606,607,608,609,611,612,613,614,616,617,618,619,621,622,623,624,626,627,628,629,631,632,633,634,636,637,638,639,641,642,643,644,646,647,648,649,651,652,653,654,656,657,658,659,661,662,663,664,666,667,668,669,671,672,673,674,676,677,678,679,681,682,683,684,686,687,688,689,691,692,693,694,696,697,698,699,701,702,703,704,706,707,708,709,711,712,713,714,716,717,718,719,721,722,723,724,726,727,728,729,731,732,733,734,736,737,738,739,741,742,743,744,746,747,748,749,751,752,753,754,756,757,758,759,761,762,763,764,766,767,768,769,771,772,773,774,776,777,778,779,781,782,783,784,786,787,788,789,791,792,793,794,796,797,798,799,801,802,803,804,806,807,808,809,811,812,813,814,816,817,818,819,821,822,823,824,826,827,828,829,831,832,833,834,836,837,838,839,841,842,843,844,846,847,848,849,851,852,853,854,856,857,858,859,861,862,863,864,866,867,868,869,871,872,873,874,876,877,878,879,881,882,883,884,886,887,888,889,891,892,893,894,896,897,898,899,901,902,903,904,906,907,908,909,911,912,913,914,916,917,918,919,921,922,923,924,926,927,928,929,931,932,933,934,936,937,938,939,941,942,943,944,946,947,948,949,951,952,953,954,956,957,958,959,961,962,963,964,966,967,968,969,971,972,973,974,976,977,978,979,981,982,983,984,986,987,988,989,991,992,993,994,996,997,998,999,"
     ]
    }
   ],
   "source": [
    "print(\"OUTPUT:\")\n",
    "for i in range(1,1001):\n",
    "    if (i%5==0):\n",
    "        pass\n",
    "    \n",
    "    else:\n",
    "        print(i,end=\",\")"
   ]
  },
  {
   "cell_type": "markdown",
   "metadata": {},
   "source": [
    "Result: To execute the above code to write a python program to print all the numbers except multiples of 5."
   ]
  },
  {
   "cell_type": "markdown",
   "metadata": {},
   "source": [
    "# PROGRAM 8\n",
    "\n",
    "\n",
    "8. Write a python program to print all values of a dictionary variable using for loop & check whether the value of any particular key is existing in a dictionary item.\n",
    "\n",
    "AIM: To write a python program to print all values of a dictionary variable using for loop & check whether the value of any particular key is existing in a dictionary item.\\\n",
    "\n",
    "ALGORITHM:\\\n",
    "\n",
    "STEP 1:Creating the dictionary\\\n",
    "STEP 2:Printing the output for the values\\\n",
    "STEP 3:Creating the for loop\\\n",
    "STEP 4:Printing the output\\\n",
    "STEP 5:Creating the for loop\\\n",
    "STEP 5:Printing the output."
   ]
  },
  {
   "cell_type": "code",
   "execution_count": 10,
   "metadata": {},
   "outputs": [
    {
     "name": "stdout",
     "output_type": "stream",
     "text": [
      "OUTPUT:\n",
      "The values in the dictionary is :\n",
      "datascience\n",
      "chemistry\n",
      "physics\n",
      "maths\n",
      "computerscience\n",
      "english\n",
      "Enter the key to get the value: abi\n",
      "datascience\n"
     ]
    }
   ],
   "source": [
    "print(\"OUTPUT:\")\n",
    "dict={\"abi\":\"datascience\", \"asaif\":\"chemistry\", \"vasanth\":\"physics\", \"bala\":\"maths\", \"aqua\": \"computerscience\",\"ram\":\"english\"}\n",
    "m=dict.values()\n",
    "print(\"The values in the dictionary is :\")\n",
    "for i in m:\n",
    "    print(i)\n",
    "n=(input(\"Enter the key to get the value: \"))\n",
    "for j in dict:\n",
    "    if j==n:\n",
    "        print(dict[j])"
   ]
  },
  {
   "cell_type": "markdown",
   "metadata": {},
   "source": [
    "Result: The above code is executed to to write a python program to print all values of a dictionary variable using for loop & check whether the value of any particular key is existing in a dictionary item."
   ]
  },
  {
   "cell_type": "markdown",
   "metadata": {},
   "source": [
    "# PROGRAM 9\n",
    "\n",
    "9. Write a python program to convert given string “Programming with Data Structures” into list, tuple and set.\n",
    "\n",
    "AIM: To write a python program to convert given string “Programming with Data Structures” into list, tuple and set.\\\n",
    "\n",
    "ALGORITHM:\\\n",
    "\n",
    "STEP 1:Creating the string\\\n",
    "STEP 2:Creating the list\\\n",
    "STEP 3:Creating the tuple\\\n",
    "STEP 4:Creating the set\\\n",
    "STEP 5:Printing the output."
   ]
  },
  {
   "cell_type": "code",
   "execution_count": 11,
   "metadata": {},
   "outputs": [
    {
     "name": "stdout",
     "output_type": "stream",
     "text": [
      "OUTPUT:\n",
      "\n",
      "THE CONVERTED LIST, TUPLE, SET: \n",
      "\n",
      "\n",
      "\n",
      " LIST= ['P', 'r', 'o', 'g', 'r', 'a', 'm', 'm', 'i', 'n', 'g', ' ', 'w', 'i', 't', 'h', ' ', 'D', 'a', 't', 'a', ' ', 'S', 't', 'r', 'u', 'c', 't', 'u', 'r', 'e', 's'] \n",
      "\n",
      "\n",
      "TUPLE =  ('P', 'r', 'o', 'g', 'r', 'a', 'm', 'm', 'i', 'n', 'g', ' ', 'w', 'i', 't', 'h', ' ', 'D', 'a', 't', 'a', ' ', 'S', 't', 'r', 'u', 'c', 't', 'u', 'r', 'e', 's') \n",
      "\n",
      "\n",
      "SET =  {'P', 'u', 'e', 'o', 'i', 'r', ' ', 't', 'h', 'S', 'D', 'm', 'a', 's', 'w', 'c', 'n', 'g'} "
     ]
    }
   ],
   "source": [
    "print(\"OUTPUT:\")\n",
    "a=\"Programming with Data Structures\"\n",
    "print(\"\\nTHE CONVERTED LIST, TUPLE, SET: \")\n",
    "print(\"\\n\\n\\n LIST=\", list(a) ,end=\" \")   \n",
    "print(\"\\n\\n\\nTUPLE = \",tuple(a),end=\" \")\n",
    "print(\"\\n\\n\\nSET = \",set(a),end=\" \")"
   ]
  },
  {
   "cell_type": "markdown",
   "metadata": {},
   "source": [
    "Result: The above code is to write a python program to convert given string “Programming with Data Structures” into list, tuple and set."
   ]
  },
  {
   "cell_type": "markdown",
   "metadata": {},
   "source": [
    "# PROGRAM 10\n",
    "\n",
    "10. Write a python program to find standard deviation using in-built function for the given list of items.\n",
    "\n",
    "AIM: To write a python program to find standard deviation using in-built function for the given list of items.\\\n",
    "\n",
    "ALGORITHM:\\\n",
    "\n",
    "STEP 1:Importing the statistics\\\n",
    "STEP 2:Creating the list\\\n",
    "STEP 3:printing the output."
   ]
  },
  {
   "cell_type": "code",
   "execution_count": 12,
   "metadata": {},
   "outputs": [
    {
     "name": "stdout",
     "output_type": "stream",
     "text": [
      "OUTPUT:\n",
      "standard deviation is :  3103.4219822640944\n"
     ]
    }
   ],
   "source": [
    "print(\"OUTPUT:\")\n",
    "import statistics\n",
    "list=[123,455,643,6674,353,234,1435,7655]\n",
    "print(\"standard deviation is : \",statistics.stdev(list))"
   ]
  },
  {
   "cell_type": "markdown",
   "metadata": {},
   "source": [
    "Result: The above code is executed to write a python program to find standard deviation using in-built function for the given list of items."
   ]
  }
 ],
 "metadata": {
  "kernelspec": {
   "display_name": "Python 3 (ipykernel)",
   "language": "python",
   "name": "python3"
  },
  "language_info": {
   "codemirror_mode": {
    "name": "ipython",
    "version": 3
   },
   "file_extension": ".py",
   "mimetype": "text/x-python",
   "name": "python",
   "nbconvert_exporter": "python",
   "pygments_lexer": "ipython3",
   "version": "3.9.13"
  }
 },
 "nbformat": 4,
 "nbformat_minor": 4
}
