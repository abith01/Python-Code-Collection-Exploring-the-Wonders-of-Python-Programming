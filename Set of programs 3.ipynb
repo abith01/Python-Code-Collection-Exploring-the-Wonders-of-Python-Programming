{
 "cells": [
  {
   "cell_type": "markdown",
   "metadata": {},
   "source": [
    "# PROGRAM 1\n",
    "\n",
    "1. Make the third letter of a given string in upper case and rest of them are in lowercase\n",
    "\n",
    "AIM: To the make the third letter of a given string in upper case and rest of them are in lowercase\n",
    "\n",
    "ALGORITHM:\n",
    "\n",
    "STEP 1:Getting the input from the user\\\n",
    "STEP 2:Making the third letter to be capital\\\n",
    "STEP 3:Printing the output"
   ]
  },
  {
   "cell_type": "code",
   "execution_count": 1,
   "metadata": {},
   "outputs": [
    {
     "name": "stdout",
     "output_type": "stream",
     "text": [
      "OUTPUT:\n",
      "enter the string to get the third letter in capital:abith\n",
      "You wanted to make the third letter to be capital abIth\n"
     ]
    }
   ],
   "source": [
    "print(\"OUTPUT:\")\n",
    "a=input(\"enter the string to get the third letter in capital:\")\n",
    "b=a[0:2].lower()+a[2:3].upper()+a[3:10000].lower()\n",
    "print(\"You wanted to make the third letter to be capital\",b)"
   ]
  },
  {
   "cell_type": "markdown",
   "metadata": {},
   "source": [
    " Result: Thus the above program is executed"
   ]
  },
  {
   "cell_type": "markdown",
   "metadata": {},
   "source": [
    "# PROGRAM 2\n",
    "\n",
    "2.  Reversing a given string\n",
    "\n",
    "AIM: To reversing a given string\n",
    "\n",
    "ALGORITHM:\n",
    "\n",
    "STEP 1:Getting the input from the user\\\n",
    "STEP 2:Making the string backward\\\n",
    "STEP 3:Printing the output"
   ]
  },
  {
   "cell_type": "code",
   "execution_count": 4,
   "metadata": {},
   "outputs": [
    {
     "name": "stdout",
     "output_type": "stream",
     "text": [
      "OUTPUT:\n",
      "Enter the string you want to reverse:ABITH\n",
      "HTIBA\n"
     ]
    }
   ],
   "source": [
    "print(\"OUTPUT:\")\n",
    "a=input('Enter the string you want to reverse:')\n",
    "b=a[::-1]\n",
    "print(b)"
   ]
  },
  {
   "cell_type": "markdown",
   "metadata": {},
   "source": [
    "RESULT: Thus the above program is executed"
   ]
  },
  {
   "cell_type": "markdown",
   "metadata": {},
   "source": [
    "# PROGRAM 3\n",
    "\n",
    "3. Remove all whitespaces from a given string\n",
    "\n",
    "ALGORITHM:\n",
    "\n",
    "STEP 1:Getting the input from the user\\\n",
    "STEP 2:Making the string backward\\\n",
    "STEP 3:Printing the output\n"
   ]
  },
  {
   "cell_type": "code",
   "execution_count": 6,
   "metadata": {},
   "outputs": [
    {
     "name": "stdout",
     "output_type": "stream",
     "text": [
      "OUTPUT:\n",
      "Enter the string you want to remove all the white spaces: I LOVE YOU💕💕\n",
      "ILOVEYOU💕💕\n"
     ]
    }
   ],
   "source": [
    "print(\"OUTPUT:\")\n",
    "a=input('Enter the string you want to remove all the white spaces:')\n",
    "b=a.replace(\" \",\"\")\n",
    "print(b)"
   ]
  },
  {
   "cell_type": "markdown",
   "metadata": {},
   "source": [
    " RESULT: Thus the above program is executed"
   ]
  },
  {
   "cell_type": "markdown",
   "metadata": {},
   "source": [
    "# PROGRAM 4\n",
    "\n",
    "4. Remove last three characters from a given string\n",
    "\n",
    "AIM: To remove last three characters from a given string\n",
    "\n",
    "ALGORITHM:\n",
    "\n",
    "STEP 1:Getting the input from the user\\\n",
    "STEP 2:Making the string to to cut last three letters\\\n",
    "STEP 3:Cheaking the length\n",
    "STEP 4:Printing the output"
   ]
  },
  {
   "cell_type": "code",
   "execution_count": 7,
   "metadata": {},
   "outputs": [
    {
     "name": "stdout",
     "output_type": "stream",
     "text": [
      "OUTPUT:\n",
      "Enter the string you want to remove last three letters:OUTPUT\n",
      "OUT\n"
     ]
    }
   ],
   "source": [
    "print(\"OUTPUT:\")\n",
    "a=input('Enter the string you want to remove last three letters:')\n",
    "b=len(a)\n",
    "print(a[0:b-3])"
   ]
  },
  {
   "cell_type": "markdown",
   "metadata": {},
   "source": [
    " RESULT: Thus the above program is executed"
   ]
  },
  {
   "cell_type": "markdown",
   "metadata": {},
   "source": [
    "# program 5\n",
    "\n",
    "5. Replacing the string \"parrot \" with \"carrot\"\n",
    "\n",
    "AIM: To replacing the string \"parrot \" with \"carrot\"\n",
    "\n",
    "ALGORITHM:\n",
    "\n",
    "STEP 1:Assinging the variable to the string\\\\\n",
    "STEP 2:Replacing the string\\\n",
    "STEP 3:Printing the output"
   ]
  },
  {
   "cell_type": "code",
   "execution_count": 12,
   "metadata": {},
   "outputs": [
    {
     "name": "stdout",
     "output_type": "stream",
     "text": [
      "OUTPUT:\n",
      "The replaced word is carrot🥕🥕🥕🥕\n"
     ]
    }
   ],
   "source": [
    " print(\"OUTPUT:\")\n",
    "a=\"parrot\"\n",
    "b=a.replace(\"parrot\",(\"carrot🥕🥕🥕🥕\"))\n",
    "print(\"The replaced word is\",b)"
   ]
  },
  {
   "cell_type": "markdown",
   "metadata": {},
   "source": [
    "RESULT: Thus the above program is executed"
   ]
  },
  {
   "cell_type": "markdown",
   "metadata": {},
   "source": [
    "# PROGRAM 6\n",
    "\n",
    "6.  Find the factorial using functions\n",
    "\n",
    "AIM: To find the factorial using functions\n",
    "\n",
    "ALGORITHM:\n",
    "\n",
    "STEP 1:Creating the function\\ \n",
    "STEP 2:Getting the input from the user\\\n",
    "STEP 3:Assigning the dummy variable\\\n",
    "STEP 4:Creating the for loop with range\\\n",
    "STEP 5:Multipying with the loop \\\n",
    "STEP 6:Printing the output"
   ]
  },
  {
   "cell_type": "code",
   "execution_count": 15,
   "metadata": {},
   "outputs": [
    {
     "name": "stdout",
     "output_type": "stream",
     "text": [
      "OUTPUT:\n",
      "enter the number:5\n",
      "The factorial of 5 is 120\n"
     ]
    }
   ],
   "source": [
    "print(\"OUTPUT:\")\n",
    "def factorial():\n",
    "      n=int(input(\"enter the number:\"))\n",
    "      s=1\n",
    "      for i in range(1,n+1):\n",
    "           s=s*i\n",
    "      print(\"The factorial of\",n,\"is\",s)\n",
    "factorial()"
   ]
  },
  {
   "cell_type": "markdown",
   "metadata": {},
   "source": [
    "RESULT: Thus the above program is executed"
   ]
  },
  {
   "cell_type": "markdown",
   "metadata": {},
   "source": [
    "# PROGRAM 7"
   ]
  },
  {
   "cell_type": "markdown",
   "metadata": {},
   "source": [
    "7. Find armstrong number using functions\n",
    "\n",
    "\n",
    "AIM: To find the armstrong number using functions\n",
    "\n",
    "ALGORITHM:\n",
    "\n",
    "STEP 1:Creating the function \n",
    "STEP 2:Getting the input from the user\n",
    "STEP 3:Getting the length of the a \n",
    "STEP 4:Creating the for loop \n",
    "STEP 5:Creating the if statement  \n",
    "STEP 6:Using the else statement\n",
    "STEP 7:Printing the output\n"
   ]
  },
  {
   "cell_type": "code",
   "execution_count": 4,
   "metadata": {},
   "outputs": [
    {
     "name": "stdout",
     "output_type": "stream",
     "text": [
      "OUTPUT:\n",
      "enter the num:153\n",
      "153\n",
      "its a armstrong number\n"
     ]
    }
   ],
   "source": [
    "print(\"OUTPUT:\")\n",
    "def armstrong():\n",
    "    a=input(\"enter the num:\")\n",
    "    b=len(a)\n",
    "    d=int(a)\n",
    "    c=0\n",
    "    for i in a:\n",
    "        \n",
    "        c=c+int(i)**b\n",
    "    print(c)\n",
    "    if(d==c):\n",
    "        print(\"its a armstrong number\")\n",
    "    else:\n",
    "        print(\"its not a armstrong number\")\n",
    "armstrong()"
   ]
  },
  {
   "cell_type": "markdown",
   "metadata": {},
   "source": [
    "Result: The above program is executed"
   ]
  },
  {
   "cell_type": "markdown",
   "metadata": {},
   "source": [
    "# PROGRAM  8\n",
    "\n",
    "8. Reverse a given number without using python in-built functions\n",
    "\n",
    "Aim: To reverse a given number without using python in-built functions\n",
    "\n",
    "Algorithm:\n",
    "\n",
    "Step 1: Getting the value from the user \n",
    "Step 2: Convering the given the interger to the string \n",
    "Step 3: Reversing the value\n",
    "Step 4: Printing the output"
   ]
  },
  {
   "cell_type": "code",
   "execution_count": 7,
   "metadata": {},
   "outputs": [
    {
     "name": "stdout",
     "output_type": "stream",
     "text": [
      "OUTPUT\n",
      "enter the numbers you want to reverse:1234567890\n",
      "The numbers are reversed:  0987654321\n"
     ]
    }
   ],
   "source": [
    "print(\"OUTPUT\")\n",
    "n= int(input(\"enter the numbers you want to reverse:\"))\n",
    "a=str(n)\n",
    "b=a[::-1]\n",
    "print(\"The numbers are reversed: \",b)"
   ]
  },
  {
   "cell_type": "markdown",
   "metadata": {},
   "source": [
    " Result: The above program is executed"
   ]
  },
  {
   "cell_type": "markdown",
   "metadata": {},
   "source": [
    "# Program 9\n",
    "\n",
    "9. Find fibonacci series using functions\n",
    "\n",
    "Aim: To find fibonacci series using functions\n",
    "\n",
    "Algorithm:\n",
    "\n",
    "Step 1:Creating the function\n",
    "Step 2:Getting the input  from the user \n",
    "Step 3:Assingning the value to the variable\n",
    "step 4:Creating the if statement with the condition\n",
    "Step 5:Using the else statement \n",
    "Step 6:Using the nested if in else\n",
    "Step 7: Printing the ouput\n"
   ]
  },
  {
   "cell_type": "code",
   "execution_count": 8,
   "metadata": {},
   "outputs": [
    {
     "name": "stdout",
     "output_type": "stream",
     "text": [
      "OUTPUT\n",
      "enter the number:6\n",
      "0 , 1 , 1, 2, 3, 5"
     ]
    }
   ],
   "source": [
    "print(\"OUTPUT\")\n",
    "def fibonacci():\n",
    "    a=int(input(\"enter the number:\"))\n",
    "    a1=0\n",
    "    a2=1\n",
    "    a3=1\n",
    "    if (a==1):\n",
    "        print(a1,end=\" \")\n",
    "    else:\n",
    "        print(a1,\",\",a2,end=\" \")\n",
    "        for i in range(2,a):\n",
    "            a3=a1+a2\n",
    "            print(\",\",a3,end=\"\")\n",
    "            a1=a2\n",
    "            a2=a3\n",
    "fibonacci()       "
   ]
  },
  {
   "cell_type": "markdown",
   "metadata": {},
   "source": [
    "Result: The above program is executed"
   ]
  },
  {
   "cell_type": "markdown",
   "metadata": {},
   "source": [
    "# Program 10 \n",
    "\n",
    "10. Find prime numbers from 1 to 100 using functions\n",
    "\n",
    "Aim: TO find prime numbers from 1 to 100 using functions\n",
    "\n",
    "Algorithm:\n",
    "\n",
    "Step 1:Assing the prime numbers to the list\n",
    "Step 2:Creating the for loop\n",
    "Step 3:Creating the nested for loop\n",
    "Step 4:Creating the if loop \n",
    "Step 5:Creating the another if loop for nested\n",
    "Step 6:Printing the output"
   ]
  },
  {
   "cell_type": "code",
   "execution_count": 20,
   "metadata": {},
   "outputs": [
    {
     "name": "stdout",
     "output_type": "stream",
     "text": [
      "OUTPUT\n",
      "[2, 3, 5, 7, 11, 13, 17, 19, 23, 29, 31, 37, 41, 43, 47, 53, 59, 61, 67, 71, 73, 79, 83, 89, 97]\n"
     ]
    }
   ],
   "source": [
    "print(\"OUTPUT\")\n",
    "prime_number=[]\n",
    "for i in range (1,101):\n",
    "    c=0\n",
    "    for j in range (1,i+1):\n",
    "        if(i%j==0):\n",
    "            c=c+1\n",
    "    if c==2:\n",
    "        prime_number.append(i)\n",
    "print(prime_number)"
   ]
  },
  {
   "cell_type": "markdown",
   "metadata": {},
   "source": [
    "Result: The above program is executed  "
   ]
  },
  {
   "cell_type": "code",
   "execution_count": null,
   "metadata": {},
   "outputs": [],
   "source": []
  },
  {
   "cell_type": "code",
   "execution_count": null,
   "metadata": {},
   "outputs": [],
   "source": []
  }
 ],
 "metadata": {
  "kernelspec": {
   "display_name": "Python 3 (ipykernel)",
   "language": "python",
   "name": "python3"
  },
  "language_info": {
   "codemirror_mode": {
    "name": "ipython",
    "version": 3
   },
   "file_extension": ".py",
   "mimetype": "text/x-python",
   "name": "python",
   "nbconvert_exporter": "python",
   "pygments_lexer": "ipython3",
   "version": "3.9.13"
  }
 },
 "nbformat": 4,
 "nbformat_minor": 4
}
