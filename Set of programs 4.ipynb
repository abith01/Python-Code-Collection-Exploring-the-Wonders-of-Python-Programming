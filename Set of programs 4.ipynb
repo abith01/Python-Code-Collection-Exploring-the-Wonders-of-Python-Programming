{
 "cells": [
  {
   "cell_type": "markdown",
   "metadata": {},
   "source": [
    "# PROGRAM 1\n",
    "1. To find LCM and GCD of a given number\\\n",
    "\n",
    "AIM : To write a program to find LCM and GCD of a given number\n",
    "\n",
    "ALGORITHM:\\\n",
    "\n",
    "Step 1: Getting input from the user\\\n",
    "Step 2: Getting the input from the user\\\n",
    "Step 3: Importing the math function\\\n",
    "Step 4: Printing the output\\"
   ]
  },
  {
   "cell_type": "code",
   "execution_count": null,
   "metadata": {},
   "outputs": [],
   "source": [
    "num1=int(input(\"ENTER THE FIRST NUMBER:\"))\n",
    "num2=int(input(\"ENTER THE SECOND NUMBER:\"))\n",
    "import math\n",
    "a=math.gcd(num1,num2)\n",
    "\n",
    "b=math.lcm(num1,num2)\n",
    "print(a,b)"
   ]
  },
  {
   "cell_type": "markdown",
   "metadata": {},
   "source": [
    "Result : The above program is executed"
   ]
  },
  {
   "cell_type": "markdown",
   "metadata": {},
   "source": [
    "# PROGRAM 2\n",
    "\n",
    "2. To check the given character is Vowel or Consonant and find out occurrences of vowels and consonants in a given string\\\n",
    "ALGORITHM:\\\n",
    "\n",
    "Step 1 :Getting input from the user\\\n",
    "Step 2 :Creating the list\\\n",
    "Step 3:Creating the if statement\\\n",
    "Step 4: Using the else statement\\\n",
    "Step 5:Creating the for loop\\\n",
    "Step 6: Printing the output\\\n"
   ]
  },
  {
   "cell_type": "code",
   "execution_count": 1,
   "metadata": {},
   "outputs": [
    {
     "name": "stdout",
     "output_type": "stream",
     "text": [
      "Enter the charecter: w\n",
      "Its a consonent\n",
      "Enter the string : arun\n",
      "Number of vowels  :  2\n",
      "Number of consonent  :  2\n"
     ]
    }
   ],
   "source": [
    "n=input(\"Enter the charecter: \")\n",
    "i=[\"a\",\"e\",\"i\",\"o\",\"u\",\"A\",\"E\",\"I\",\"O\",\"U\"]\n",
    "\n",
    "if (n in i):\n",
    "    print(\"Its a vowel\")\n",
    "\n",
    "else:\n",
    "    print(\"Its a consonent\")\n",
    "    \n",
    "n1=0\n",
    "n2=0\n",
    "a=input(\"Enter the string : \")\n",
    "for j in range(0,len(a)):\n",
    "    if(a[j] in i):\n",
    "        n1+=1\n",
    "    else:\n",
    "        n2+=1\n",
    "print(\"Number of vowels  : \",n1)\n",
    "print(\"Number of consonent  : \",n2)\n",
    "            "
   ]
  },
  {
   "cell_type": "markdown",
   "metadata": {},
   "source": [
    "Result: The above is executed without any error"
   ]
  },
  {
   "cell_type": "markdown",
   "metadata": {},
   "source": [
    "# PROGRAM 3\n",
    "\n",
    "Aim: To check whether an element exists within a tuple and to find the index of an item of a tuple\\\n",
    "\n",
    "ALGORITHM:\\\n",
    "\n",
    "Step 1: Creating the tuple\\\n",
    "Step 2: Getting value from the user\\\n",
    "Step 3: Printing the output\\\n"
   ]
  },
  {
   "cell_type": "code",
   "execution_count": 49,
   "metadata": {},
   "outputs": [
    {
     "name": "stdout",
     "output_type": "stream",
     "text": [
      "Enter the number : 3\n",
      "True\n",
      "3\n"
     ]
    }
   ],
   "source": [
    "a=(0,1,2,3,4,5,6,7,8,9)\n",
    "n=int(input(\"Enter the number : \"))\n",
    "s=n in a\n",
    "print(s)\n",
    "print(a.index(n))\n",
    "\n"
   ]
  },
  {
   "cell_type": "markdown",
   "metadata": {},
   "source": [
    "Result: The above code is executed without any error"
   ]
  },
  {
   "cell_type": "markdown",
   "metadata": {},
   "source": [
    "# PROGRAM 4\n",
    "\n",
    "Aim:To Convert decimal into binary\\\n",
    "\n",
    "ALGORITHM:\\\n",
    "\n",
    "Step 1: GEtting input from the user\n",
    "Step 2: Printing the output\n"
   ]
  },
  {
   "cell_type": "code",
   "execution_count": 50,
   "metadata": {},
   "outputs": [
    {
     "name": "stdout",
     "output_type": "stream",
     "text": [
      "Enter the number to convert decimal to binary : 567\n",
      "0b1000110111\n"
     ]
    }
   ],
   "source": [
    "n=int(input(\"Enter the number to convert decimal to binary : \"))\n",
    "print(bin(n))\n"
   ]
  },
  {
   "cell_type": "markdown",
   "metadata": {},
   "source": [
    "Result: The above code is executed without any error"
   ]
  }
 ],
 "metadata": {
  "kernelspec": {
   "display_name": "Python 3 (ipykernel)",
   "language": "python",
   "name": "python3"
  },
  "language_info": {
   "codemirror_mode": {
    "name": "ipython",
    "version": 3
   },
   "file_extension": ".py",
   "mimetype": "text/x-python",
   "name": "python",
   "nbconvert_exporter": "python",
   "pygments_lexer": "ipython3",
   "version": "3.9.13"
  }
 },
 "nbformat": 4,
 "nbformat_minor": 4
}
