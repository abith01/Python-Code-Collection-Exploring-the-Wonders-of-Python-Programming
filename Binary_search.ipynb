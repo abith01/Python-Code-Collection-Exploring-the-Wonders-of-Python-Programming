{
 "cells": [
  {
   "cell_type": "code",
   "execution_count": 10,
   "metadata": {},
   "outputs": [],
   "source": [
    "list1=[32,5,7,698,34,56,26,87,4334]\n",
    "list2=list1.copy()"
   ]
  },
  {
   "cell_type": "code",
   "execution_count": 11,
   "metadata": {},
   "outputs": [
    {
     "name": "stdout",
     "output_type": "stream",
     "text": [
      "Positions of the odd elements are : 1, 2, 7, "
     ]
    }
   ],
   "source": [
    "j=0\n",
    "print(\"Positions of the odd elements are : \",end=\"\")\n",
    "for i in list2:\n",
    "    if (i%2!=0):\n",
    "        print(j,end=\", \")\n",
    "    j=j+1"
   ]
  },
  {
   "cell_type": "code",
   "execution_count": 12,
   "metadata": {},
   "outputs": [
    {
     "name": "stdout",
     "output_type": "stream",
     "text": [
      "After sorting my list is:  [5, 7, 26, 32, 34, 56, 87, 698, 4334]\n",
      "Enter the element you want to search : 34\n",
      "Element found at 4 position\n"
     ]
    }
   ],
   "source": [
    "def bin_search(l,sk,start,end):\n",
    "    mid=(start+end)//2\n",
    "    if (sk==l[mid]):\n",
    "        print(\"Element found at\",mid,\"position\")\n",
    "    elif(sk<l[mid]):\n",
    "        bin_search(l,sk,0,mid-1)\n",
    "    else:\n",
    "        bin_search(l,sk,mid+1,end)\n",
    "\n",
    "\n",
    "list1.sort()\n",
    "print(\"After sorting my list is: \",list1)\n",
    "elem=int(input(\"Enter the element you want to search : \"))\n",
    "bin_search(list1,elem,0,len(list1)-1)"
   ]
  }
 ],
 "metadata": {
  "kernelspec": {
   "display_name": "Python 3 (ipykernel)",
   "language": "python",
   "name": "python3"
  },
  "language_info": {
   "codemirror_mode": {
    "name": "ipython",
    "version": 3
   },
   "file_extension": ".py",
   "mimetype": "text/x-python",
   "name": "python",
   "nbconvert_exporter": "python",
   "pygments_lexer": "ipython3",
   "version": "3.9.13"
  }
 },
 "nbformat": 4,
 "nbformat_minor": 4
}
