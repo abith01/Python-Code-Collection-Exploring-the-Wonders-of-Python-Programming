{
 "cells": [
  {
   "cell_type": "code",
   "execution_count": 4,
   "id": "7afce69a",
   "metadata": {},
   "outputs": [
    {
     "name": "stdout",
     "output_type": "stream",
     "text": [
      "Enter the BMI number: 21\n",
      "Normal\n"
     ]
    }
   ],
   "source": [
    "BMI=int(input(\"Enter the BMI number: \"))\n",
    "if BMI<=18.5:\n",
    "    print(\"Under_Weight\")\n",
    "elif BMI>18.5 and BMI<=24:\n",
    "    print(\"Normal\")\n",
    "elif BMI>24 and BMI<=30:\n",
    "    print(Overweight)\n",
    "else:\n",
    "    print(\"Obese\")"
   ]
  },
  {
   "cell_type": "code",
   "execution_count": null,
   "id": "36d0705d",
   "metadata": {},
   "outputs": [],
   "source": []
  }
 ],
 "metadata": {
  "kernelspec": {
   "display_name": "Python 3 (ipykernel)",
   "language": "python",
   "name": "python3"
  },
  "language_info": {
   "codemirror_mode": {
    "name": "ipython",
    "version": 3
   },
   "file_extension": ".py",
   "mimetype": "text/x-python",
   "name": "python",
   "nbconvert_exporter": "python",
   "pygments_lexer": "ipython3",
   "version": "3.9.13"
  }
 },
 "nbformat": 4,
 "nbformat_minor": 5
}
