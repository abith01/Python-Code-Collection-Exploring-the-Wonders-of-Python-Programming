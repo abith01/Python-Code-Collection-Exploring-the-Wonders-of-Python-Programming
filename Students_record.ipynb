{
 "cells": [
  {
   "cell_type": "code",
   "execution_count": 5,
   "metadata": {},
   "outputs": [
    {
     "name": "stdout",
     "output_type": "stream",
     "text": [
      "Enter your name : frge\n",
      "Enter your registration number : 43\n",
      "Enter the frge's physics mark : 43\n",
      "Enter the frge's chemistry mark  : 5\n",
      "Enter the frge's maths mark : 42\n",
      "Enter the frge's biology mark : 23\n",
      "Enter the frge's  gender : male\n",
      "The total marks frge has got :  113\n",
      "The average mark got by frge  :  28\n",
      "Enter your name : gfdg\n",
      "Enter your registration number : 412\n",
      "Enter the gfdg's physics mark : 42\n",
      "Enter the gfdg's chemistry mark  : 5\n",
      "Enter the gfdg's maths mark : 64\n",
      "Enter the gfdg's biology mark : 43\n",
      "Enter the gfdg's  gender : male\n",
      "The total marks gfdg has got :  154\n",
      "The average mark got by gfdg  :  38\n",
      "38\n"
     ]
    }
   ],
   "source": [
    "class students():\n",
    "    def __init__(self):\n",
    "        for i in range (2):\n",
    "            name=input(\"Enter your name : \")\n",
    "            reg_no=int(input(\"Enter your registration number : \"))\n",
    "            self.name=name\n",
    "            self.reg_no=reg_no\n",
    "            self.marks=[]\n",
    "            n1=int(input(\"Enter the %s's physics mark : \" %(self.name)))\n",
    "            n2=int(input(\"Enter the %s's chemistry mark  : \" %(self.name)))\n",
    "            n3=int(input(\"Enter the %s's maths mark : \" %(self.name)))\n",
    "            n4=int(input(\"Enter the %s's biology mark : \" %(self.name)))\n",
    "            n0=input(\"Enter the %s's  gender : \" %(self.name))\n",
    "            print(\"The total marks\",self.name,\"has got : \",n1+n2+n3+n4)\n",
    "            n=n1+n2+n3+n4\n",
    "            self.a=int(n/4)\n",
    "            print(\"The average mark got by\",self.name,\" : \",self.a)\n",
    "            \n",
    "            \n",
    "s1=students()\n",
    "print(s1.a)"
   ]
  },
  {
   "cell_type": "code",
   "execution_count": null,
   "metadata": {},
   "outputs": [],
   "source": []
  }
 ],
 "metadata": {
  "kernelspec": {
   "display_name": "Python 3 (ipykernel)",
   "language": "python",
   "name": "python3"
  },
  "language_info": {
   "codemirror_mode": {
    "name": "ipython",
    "version": 3
   },
   "file_extension": ".py",
   "mimetype": "text/x-python",
   "name": "python",
   "nbconvert_exporter": "python",
   "pygments_lexer": "ipython3",
   "version": "3.9.13"
  }
 },
 "nbformat": 4,
 "nbformat_minor": 4
}
