{
 "cells": [
  {
   "cell_type": "markdown",
   "metadata": {},
   "source": [
    "ALGORITHM : \\\n",
    "\n",
    "Step 1: Creating the class\\\n",
    "Step 2: Creating the initailizing the function\\ \n",
    "Step 3: Giving the values to the attributes\\\n",
    "Step 4: Creating the method called deposit\\\n",
    "Step 5: Printing the amount deposited in the account\\\n",
    "Step 6: Creating the withdraw method\\\n",
    "Step 7: Using if else statement inside withdraw limit\\\n",
    "Step 8: Creating method of minimum balance \\\n",
    "Step 9: Using if else else statement inside minimum balance\\ \n",
    "Step 10: Creating display method\\\n",
    "step 11: Getting the output using display method"
   ]
  },
  {
   "cell_type": "code",
   "execution_count": 3,
   "metadata": {},
   "outputs": [
    {
     "name": "stdout",
     "output_type": "stream",
     "text": [
      "Your account number :  1001223311876\n",
      "Name :  abith\n",
      "Age :  20\n",
      "Address :  abith address\n",
      "Gender : male\n",
      "Your account balance is :  1000\n",
      "Enter the amount you want to deposit: 600\n",
      "your dep money is 600\n",
      "If you are withdrawing at the week days press 1 or If you are withdrwing in the week end presss 22\n",
      "you can withdraw 25,000\n",
      "Enter the area where you live,rural area (press 1),semi-rural area(press 2), urban area (press 3)2\n",
      "your minimum balance shoiuld be 3000\n",
      "None\n"
     ]
    }
   ],
   "source": [
    "class bank_account():\n",
    "    def __init__(self,account_number,name,age,address,gender,balance):\n",
    "        self.account_number=account_number\n",
    "        self.name=name\n",
    "        self.age=age\n",
    "        self.address=address\n",
    "        self.gender=gender\n",
    "        self.balance=balance\n",
    "        \n",
    "    def deposit(self,deposit_amount):\n",
    "        \n",
    "        print(\"your dep money is\", deposit_amount)\n",
    "    \n",
    "        \n",
    "    def withdraw_limit(self,withdraw_time):\n",
    "        \n",
    "        if (withdraw_time ==1):\n",
    "            print(\"you can withdraw 15,000\")\n",
    "        else:\n",
    "            print(\"you can withdraw 25,000\")\n",
    "    \n",
    "    def minimum_balance(self,area):\n",
    "        if (area==1):\n",
    "            print(\"your minimum balance shoiuld be 2000\")\n",
    "        elif (area ==2):\n",
    "            print(\"your minimum balance shoiuld be 3000\")\n",
    "        else:\n",
    "            print(\"your minimum balance shoiuld be 5000\")\n",
    "            \n",
    "            \n",
    "    def display(self):\n",
    "        \n",
    "        print(\"Your account number : \",s1.account_number)\n",
    "        print(\"Name : \",s1.name)\n",
    "        print(\"Age : \",s1.age)\n",
    "        print( \"Address : \",s1.address)\n",
    "        print(\"Gender :\",s1.gender)\n",
    "        print(\"Your account balance is : \",s1.balance)\n",
    "\n",
    "\n",
    "\n",
    "        deposit_amount=int(input(\"Enter the amount you want to deposit: \"))\n",
    "        s1.deposit(deposit_amount)\n",
    "\n",
    "        withdraw_time= int(input(\"If you are withdrawing at the week days press 1 or If you are withdrwing in the week end presss 2\"))\n",
    "        s1.withdraw_limit(withdraw_time)\n",
    "\n",
    "        area=int(input(\"Enter the area where you live,rural area (press 1),semi-rural area(press 2), urban area (press 3)\"))\n",
    "        s1.minimum_balance(area)\n",
    "  \n",
    "s1=bank_account(1001223311876,\"abith\",20,\"abith address\",\"male\",1000)\n",
    "print(s1.display())   \n"
   ]
  },
  {
   "cell_type": "markdown",
   "metadata": {},
   "source": [
    " Result : The given output is executed successfully."
   ]
  }
 ],
 "metadata": {
  "kernelspec": {
   "display_name": "Python 3 (ipykernel)",
   "language": "python",
   "name": "python3"
  },
  "language_info": {
   "codemirror_mode": {
    "name": "ipython",
    "version": 3
   },
   "file_extension": ".py",
   "mimetype": "text/x-python",
   "name": "python",
   "nbconvert_exporter": "python",
   "pygments_lexer": "ipython3",
   "version": "3.9.13"
  }
 },
 "nbformat": 4,
 "nbformat_minor": 4
}
