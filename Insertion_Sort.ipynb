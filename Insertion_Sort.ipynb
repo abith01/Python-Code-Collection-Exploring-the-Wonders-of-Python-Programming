{
 "cells": [
  {
   "cell_type": "markdown",
   "metadata": {},
   "source": [
    "# Python Assignment 9\n",
    "\n",
    "ABITH RAJ R S                                       \n",
    "22MSD7017      "
   ]
  },
  {
   "cell_type": "code",
   "execution_count": 1,
   "metadata": {},
   "outputs": [],
   "source": [
    "#Asceding Order:-\n",
    "def bubble_sort_A(l,size):\n",
    "    print(\"Before Sorting: \",l)\n",
    "    for i in range(1,size):\n",
    "        swapped=False\n",
    "        for j in range(size-i):\n",
    "            if(l[j]>l[j+1]):\n",
    "                temp=l[j+1]\n",
    "                l[j+1]=l[j]\n",
    "                l[j]=temp\n",
    "                swapped=True\n",
    "        if(not swapped):\n",
    "            break\n",
    "    print(\"After Sorting: \",l)"
   ]
  },
  {
   "cell_type": "code",
   "execution_count": 2,
   "metadata": {},
   "outputs": [],
   "source": [
    "#Descending Order:-\n",
    "def bubble_sort_D(l,size):\n",
    "    print(\"Before Sorting: \",l)\n",
    "    for i in range(1,size):\n",
    "        swapped=False\n",
    "        for j in range(size-i):\n",
    "            if(l[j]<l[j+1]):\n",
    "                temp=l[j+1]\n",
    "                l[j+1]=l[j]\n",
    "                l[j]=temp\n",
    "                swapped=True\n",
    "        if(not swapped):\n",
    "            break\n",
    "    print(\"After Sorting: \",l)"
   ]
  },
  {
   "cell_type": "code",
   "execution_count": 3,
   "metadata": {},
   "outputs": [],
   "source": [
    "#Ascending Order:-\n",
    "def insertion_sort_A(l,size):\n",
    "    print(\"Before Sorting: \",l)\n",
    "    for i in range(1,size):\n",
    "        key=l[i]\n",
    "        j=i-1\n",
    "        while(j>=0 and key<l[j]):\n",
    "            l[j+1]=l[j]\n",
    "            j=j-1\n",
    "            l[j+1]=key\n",
    "    print(\"After Sorting: \",l)"
   ]
  },
  {
   "cell_type": "code",
   "execution_count": 4,
   "metadata": {},
   "outputs": [],
   "source": [
    "#Descending Order:-\n",
    "def insertion_sort_D(l,size):\n",
    "    print(\"Before Sorting: \",l)\n",
    "    for i in range(1,size):\n",
    "        key=l[i]\n",
    "        j=i-1\n",
    "        while(j>=0 and key>l[j]):\n",
    "            l[j+1]=l[j]\n",
    "            j=j-1\n",
    "            l[j+1]=key\n",
    "    print(\"After Sorting: \",l)"
   ]
  },
  {
   "cell_type": "code",
   "execution_count": 5,
   "metadata": {},
   "outputs": [],
   "source": [
    "#Descending Order:-\n",
    "def insertion_sort_D(l,size):\n",
    "    print(\"Before Sorting: \",l)\n",
    "    for i in range(1,size):\n",
    "        key=l[i]\n",
    "        j=i-1\n",
    "        while(j>=0 and key>l[j]):\n",
    "            l[j+1]=l[j]\n",
    "            j=j-1\n",
    "            l[j+1]=key\n",
    "    print(\"After Sorting: \",l)"
   ]
  },
  {
   "cell_type": "code",
   "execution_count": 6,
   "metadata": {},
   "outputs": [],
   "source": [
    "#Descending Order\n",
    "def partition_D(ar,low,high):\n",
    "    pe=ar[high]\n",
    "    i=low-1\n",
    "    for j in range(low,high):\n",
    "        if ar[j]>ar[high]:\n",
    "            i=i+1\n",
    "            ar[i],ar[j]=ar[j],ar[i]\n",
    "\n",
    "    ar[i+1],ar[high]=ar[high],ar[i+1]\n",
    "    return i+1\n",
    "def quicksort_D(ar,low,high):\n",
    "    if low<high:\n",
    "        pe=partition_D(ar,low,high)\n",
    "        quicksort_D(ar,low,pe-1)\n",
    "        quicksort_D(ar,pe+1,high)\n",
    "        return ar\n"
   ]
  },
  {
   "cell_type": "code",
   "execution_count": null,
   "metadata": {},
   "outputs": [
    {
     "name": "stdout",
     "output_type": "stream",
     "text": [
      "Enter the limit of the list : 4\n",
      "-->23\n",
      "-->35\n",
      "-->65\n",
      "-->32\n",
      "Your list is :  [23, 35, 65, 32]\n",
      " Press 1 : Insertion Sort(Ascending Order)\n",
      "              Press 2 : Insertion Sort(Descending Order)\n",
      "              Press 3 : Bubble Sort(Ascending Order)\n",
      "              Press 4 : Bubble Sort(Descending Order)\n",
      "              Press 5 : Quick Sort(Ascending Order)\n",
      "              Press 6: Quick Sort(Descending Order)\n",
      "4\n",
      "Before Sorting:  [23, 35, 65, 32]\n",
      "After Sorting:  [65, 35, 32, 23]\n",
      " Press 1 : Insertion Sort(Ascending Order)\n",
      "              Press 2 : Insertion Sort(Descending Order)\n",
      "              Press 3 : Bubble Sort(Ascending Order)\n",
      "              Press 4 : Bubble Sort(Descending Order)\n",
      "              Press 5 : Quick Sort(Ascending Order)\n",
      "              Press 6: Quick Sort(Descending Order)\n",
      "2\n",
      "Before Sorting:  [65, 35, 32, 23]\n",
      "After Sorting:  [65, 35, 32, 23]\n",
      " Press 1 : Insertion Sort(Ascending Order)\n",
      "              Press 2 : Insertion Sort(Descending Order)\n",
      "              Press 3 : Bubble Sort(Ascending Order)\n",
      "              Press 4 : Bubble Sort(Descending Order)\n",
      "              Press 5 : Quick Sort(Ascending Order)\n",
      "              Press 6: Quick Sort(Descending Order)\n",
      "3\n",
      "Before Sorting:  [65, 35, 32, 23]\n",
      "After Sorting:  [23, 32, 35, 65]\n",
      " Press 1 : Insertion Sort(Ascending Order)\n",
      "              Press 2 : Insertion Sort(Descending Order)\n",
      "              Press 3 : Bubble Sort(Ascending Order)\n",
      "              Press 4 : Bubble Sort(Descending Order)\n",
      "              Press 5 : Quick Sort(Ascending Order)\n",
      "              Press 6: Quick Sort(Descending Order)\n"
     ]
    }
   ],
   "source": [
    "n=int(input(\"Enter the limit of the list : \"))\n",
    "l=[]\n",
    "for i in range(n):\n",
    "    e=int(input(\"-->\"))\n",
    "    l.append(e)\n",
    "f=1\n",
    "print(\"Your list is : \",l)\n",
    "while(f>0):\n",
    "    print(''' Press 1 : Insertion Sort(Ascending Order)\n",
    "              Press 2 : Insertion Sort(Descending Order)\n",
    "              Press 3 : Bubble Sort(Ascending Order)\n",
    "              Press 4 : Bubble Sort(Descending Order)\n",
    "              Press 5 : Quick Sort(Ascending Order)\n",
    "              Press 6: Quick Sort(Descending Order)''')\n",
    "    k=int(input())\n",
    "    f=f+1\n",
    "    if k==1:\n",
    "        insertion_sort_A(l,n)\n",
    "    elif k==2:\n",
    "        insertion_sort_D(l,n)\n",
    "    elif k==3:\n",
    "        bubble_sort_A(l,n)\n",
    "    elif k==4:\n",
    "        bubble_sort_D(l,n)\n",
    "    elif k==5:\n",
    "        print(\"Before Sorting : \",l)\n",
    "        arr1=quicksort_A(l,0,n-1)\n",
    "        print(\"After Sorting : \",arr1)\n",
    "    elif k==6:\n",
    "        print(\"Before Sorting : \",l)\n",
    "        arr2=quicksort_D(l,0,n-1)\n",
    "        print(\"After Sorting : \",arr2)\n",
    "    else:\n",
    "        break\n",
    " "
   ]
  },
  {
   "cell_type": "code",
   "execution_count": null,
   "metadata": {},
   "outputs": [],
   "source": []
  },
  {
   "cell_type": "code",
   "execution_count": null,
   "metadata": {},
   "outputs": [],
   "source": []
  },
  {
   "cell_type": "code",
   "execution_count": null,
   "metadata": {},
   "outputs": [],
   "source": []
  }
 ],
 "metadata": {
  "kernelspec": {
   "display_name": "Python 3 (ipykernel)",
   "language": "python",
   "name": "python3"
  },
  "language_info": {
   "codemirror_mode": {
    "name": "ipython",
    "version": 3
   },
   "file_extension": ".py",
   "mimetype": "text/x-python",
   "name": "python",
   "nbconvert_exporter": "python",
   "pygments_lexer": "ipython3",
   "version": "3.9.13"
  }
 },
 "nbformat": 4,
 "nbformat_minor": 4
}
