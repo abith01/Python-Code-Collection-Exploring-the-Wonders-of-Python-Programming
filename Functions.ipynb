{
 "cells": [
  {
   "cell_type": "code",
   "execution_count": 16,
   "id": "94f72540",
   "metadata": {},
   "outputs": [
    {
     "name": "stdout",
     "output_type": "stream",
     "text": [
      "Sub-fields in AI are: Machine Learning\n",
      "          Neural Network\n"
     ]
    }
   ],
   "source": [
    "def subfield():\n",
    "    print(\"\"\"Sub-fields in AI are: Machine Learning\n",
    "          Neural Network\"\"\")\n",
    "subfield()"
   ]
  },
  {
   "cell_type": "code",
   "execution_count": 17,
   "id": "72e24697",
   "metadata": {},
   "outputs": [
    {
     "name": "stdout",
     "output_type": "stream",
     "text": [
      "Enter the num: 5\n",
      "5 Odd number\n"
     ]
    }
   ],
   "source": [
    "def oddeven():\n",
    "    num=int(input(\"Enter the num: \"))\n",
    "    if num %2 ==0:\n",
    "        print(num,\"Even number\")\n",
    "    else:\n",
    "        print(num,\"Odd number\")\n",
    "        \n",
    "oddeven()"
   ]
  },
  {
   "cell_type": "code",
   "execution_count": 19,
   "id": "4893e27c",
   "metadata": {},
   "outputs": [
    {
     "name": "stdout",
     "output_type": "stream",
     "text": [
      "Enter your age: 2\n"
     ]
    },
    {
     "data": {
      "text/plain": [
       "'Not eligible'"
      ]
     },
     "execution_count": 19,
     "metadata": {},
     "output_type": "execute_result"
    }
   ],
   "source": [
    "def eligible():\n",
    "    age=int(input(\"Enter your age: \"))\n",
    "    if age<18:\n",
    "        output=\"Not eligible\"\n",
    "    else:\n",
    "        output=\"Eligible\"\n",
    "    return output\n",
    "eligible()"
   ]
  },
  {
   "cell_type": "code",
   "execution_count": 29,
   "id": "0c641aed",
   "metadata": {},
   "outputs": [
    {
     "name": "stdout",
     "output_type": "stream",
     "text": [
      "Enter the stuject 1: 3\n",
      "Enter the stuject 2: 2\n",
      "Enter the stuject 3: 4\n",
      "Enter the stuject 4: 2\n",
      "Enter the stuject 5: 3\n",
      "Total_marks 14\n",
      "280.0\n"
     ]
    }
   ],
   "source": [
    "def percentage():\n",
    "    stu1=int(input(\"Enter the stuject 1: \"))\n",
    "    stu2=int(input(\"Enter the stuject 2: \"))\n",
    "    stu3=int(input(\"Enter the stuject 3: \"))\n",
    "    stu4=int(input(\"Enter the stuject 4: \"))\n",
    "    stu5=int(input(\"Enter the stuject 5: \"))\n",
    "    Total=stu1+stu2+stu3+stu4+stu5\n",
    "    percentage=(Total/5)*100\n",
    "    print(\"Total_marks\",Total)\n",
    "    print(percentage)\n",
    "percentage()"
   ]
  },
  {
   "cell_type": "code",
   "execution_count": 33,
   "id": "b4cd9b98",
   "metadata": {},
   "outputs": [],
   "source": [
    "def triangel(height1,breath,height2):\n",
    "    \n",
    "    print(\"Height: \",height1)\n",
    "    print(\"Breath\",breath)\n",
    "    print(\"area_formula=(height*breath)/2\",(height1*breath)/2)\n",
    "    print(height1)\n",
    "    print(height2)\n",
    "    print(breath)\n",
    "    print(\"perimeter_formula: \",height1+height2+breath)"
   ]
  },
  {
   "cell_type": "code",
   "execution_count": 34,
   "id": "44d17925",
   "metadata": {},
   "outputs": [
    {
     "name": "stdout",
     "output_type": "stream",
     "text": [
      "Height:  3\n",
      "Breath 4\n",
      "area_formula=(height*breath)/2 6.0\n",
      "3\n",
      "4\n",
      "4\n",
      "perimeter_formula:  11\n"
     ]
    }
   ],
   "source": [
    "triangel(3,4,4)"
   ]
  },
  {
   "cell_type": "code",
   "execution_count": null,
   "id": "2f89c6e7",
   "metadata": {},
   "outputs": [],
   "source": []
  }
 ],
 "metadata": {
  "kernelspec": {
   "display_name": "Python 3 (ipykernel)",
   "language": "python",
   "name": "python3"
  },
  "language_info": {
   "codemirror_mode": {
    "name": "ipython",
    "version": 3
   },
   "file_extension": ".py",
   "mimetype": "text/x-python",
   "name": "python",
   "nbconvert_exporter": "python",
   "pygments_lexer": "ipython3",
   "version": "3.9.13"
  }
 },
 "nbformat": 4,
 "nbformat_minor": 5
}
