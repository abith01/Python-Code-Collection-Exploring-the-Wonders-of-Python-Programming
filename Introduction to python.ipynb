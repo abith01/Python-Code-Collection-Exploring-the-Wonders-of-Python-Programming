{
 "cells": [
  {
   "cell_type": "code",
   "execution_count": 1,
   "id": "bd68f57e",
   "metadata": {},
   "outputs": [
    {
     "name": "stdout",
     "output_type": "stream",
     "text": [
      "Abith Raj\n"
     ]
    }
   ],
   "source": [
    "print(\"Abith Raj\")"
   ]
  },
  {
   "cell_type": "code",
   "execution_count": 2,
   "id": "426873a4",
   "metadata": {},
   "outputs": [
    {
     "name": "stdout",
     "output_type": "stream",
     "text": [
      "Enter thr institute name? : VIT\n"
     ]
    }
   ],
   "source": [
    "Institute_name=input(\"Enter thr institute name? : \")"
   ]
  },
  {
   "cell_type": "code",
   "execution_count": 4,
   "id": "5ce4c74d",
   "metadata": {},
   "outputs": [
    {
     "name": "stdout",
     "output_type": "stream",
     "text": [
      "Enter the name: Abith\n",
      "Enter the age: 21\n",
      "Enter the school name: Don bosco\n",
      "Enter the degree: MS\n"
     ]
    }
   ],
   "source": [
    "Name=input(\"Enter the name: \")\n",
    "Age=input(\"Enter the age: \")\n",
    "School=input(\"Enter the school name: \")\n",
    "Degree=input(\"Enter the degree: \")"
   ]
  },
  {
   "cell_type": "code",
   "execution_count": 5,
   "id": "67645f93",
   "metadata": {},
   "outputs": [
    {
     "name": "stdout",
     "output_type": "stream",
     "text": [
      "77\n"
     ]
    }
   ],
   "source": [
    "a=43\n",
    "b=34\n",
    "add=a+b\n",
    "sub=a-b\n",
    "print(\"add: \",add)\n",
    "print(\"Sub: \",sub)\n",
    "div=a//b\n",
    "print(\"Division: \",div)\n",
    "mod=a%b\n",
    "print(\"Modulo: \",mod)\n",
    "power=a**b\n",
    "print(\"\")"
   ]
  },
  {
   "cell_type": "code",
   "execution_count": 3,
   "id": "8b8cf637",
   "metadata": {},
   "outputs": [
    {
     "name": "stdout",
     "output_type": "stream",
     "text": [
      "0\n",
      "1\n",
      "2\n",
      "3\n",
      "4\n",
      "5\n",
      "6\n",
      "7\n",
      "8\n",
      "9\n",
      "10\n",
      "11\n",
      "12\n",
      "13\n",
      "14\n",
      "15\n",
      "16\n",
      "17\n",
      "18\n",
      "19\n"
     ]
    }
   ],
   "source": [
    "for i in range(0,20):\n",
    "    print(i)"
   ]
  },
  {
   "cell_type": "code",
   "execution_count": 4,
   "id": "154504d6",
   "metadata": {},
   "outputs": [
    {
     "name": "stdout",
     "output_type": "stream",
     "text": [
      "10\n",
      "11\n",
      "12\n",
      "13\n",
      "14\n",
      "15\n",
      "16\n",
      "17\n",
      "18\n",
      "19\n"
     ]
    }
   ],
   "source": [
    "for i in range(10,20):\n",
    "    print(i)"
   ]
  },
  {
   "cell_type": "code",
   "execution_count": 5,
   "id": "1c81f8cc",
   "metadata": {},
   "outputs": [
    {
     "name": "stdout",
     "output_type": "stream",
     "text": [
      "9\n"
     ]
    }
   ],
   "source": [
    "list=[23,54,23,5,6,1,5,6,7]\n",
    "print(len(list))"
   ]
  },
  {
   "cell_type": "code",
   "execution_count": 6,
   "id": "70be8b75",
   "metadata": {},
   "outputs": [
    {
     "name": "stdout",
     "output_type": "stream",
     "text": [
      "A\n",
      "r\n",
      "t\n",
      "i\n",
      "f\n",
      "i\n",
      "c\n",
      "i\n",
      "a\n",
      "l\n",
      " \n",
      "I\n",
      "n\n",
      "t\n",
      "e\n",
      "l\n",
      "l\n",
      "i\n",
      "g\n",
      "e\n",
      "n\n",
      "c\n",
      "e\n"
     ]
    }
   ],
   "source": [
    "num=\"Artificial Intelligence\"\n",
    "for i in num:\n",
    "    print(i)"
   ]
  },
  {
   "cell_type": "code",
   "execution_count": 7,
   "id": "3c200fe2",
   "metadata": {},
   "outputs": [
    {
     "name": "stdout",
     "output_type": "stream",
     "text": [
      "Enter the name: Abi\n",
      "Enter the age: 21\n",
      "Enter the Profession: Student\n"
     ]
    }
   ],
   "source": [
    "Name=input(\"Enter the name: \")\n",
    "Age=int(input(\"Enter the age: \"))\n",
    "Profession=input(\"Enter the Profession: \")"
   ]
  },
  {
   "cell_type": "code",
   "execution_count": 8,
   "id": "148ea345",
   "metadata": {},
   "outputs": [
    {
     "name": "stdout",
     "output_type": "stream",
     "text": [
      "(2, 'Abi', 'student', 343)\n"
     ]
    }
   ],
   "source": [
    "tuple=(2,\"Abi\",\"student\",343)\n",
    "print(tuple)"
   ]
  },
  {
   "cell_type": "code",
   "execution_count": 9,
   "id": "4f477296",
   "metadata": {},
   "outputs": [
    {
     "name": "stdout",
     "output_type": "stream",
     "text": [
      "(3, 4, 56, 7) ('abi', 'Student')\n"
     ]
    }
   ],
   "source": [
    "tuple1=(3,4,56,7)\n",
    "tuple2=(\"abi\",\"Student\")\n",
    "print(tuple1,tuple2)"
   ]
  },
  {
   "cell_type": "code",
   "execution_count": 10,
   "id": "ed8a6e4b",
   "metadata": {},
   "outputs": [
    {
     "name": "stdout",
     "output_type": "stream",
     "text": [
      "2 is even\n",
      "4 is even\n",
      "6 is even\n",
      "8 is even\n",
      "12 is even\n"
     ]
    }
   ],
   "source": [
    "list=[2,3,4,5,6,7,8,9,12]\n",
    "for i in list:\n",
    "    if i%2==0:\n",
    "        print(i,\"is even\")"
   ]
  },
  {
   "cell_type": "code",
   "execution_count": 11,
   "id": "79dd317c",
   "metadata": {},
   "outputs": [
    {
     "name": "stdout",
     "output_type": "stream",
     "text": [
      "enter the value: 32\n"
     ]
    }
   ],
   "source": [
    "value=int(input(\"enter the value: \"))\n"
   ]
  },
  {
   "cell_type": "code",
   "execution_count": 12,
   "id": "d0fb18ef",
   "metadata": {},
   "outputs": [],
   "source": [
    "if value==10:\n",
    "    print(\"Correct\")"
   ]
  },
  {
   "cell_type": "code",
   "execution_count": 13,
   "id": "9bf7e647",
   "metadata": {},
   "outputs": [
    {
     "name": "stdout",
     "output_type": "stream",
     "text": [
      "Enter the Password: Abith\n",
      "Success\n"
     ]
    }
   ],
   "source": [
    "Password=input(\"Enter the Password: \")\n",
    "if Password==\"Abith\":\n",
    "    print(\"Success\")\n"
   ]
  },
  {
   "cell_type": "code",
   "execution_count": 14,
   "id": "646e39ce",
   "metadata": {},
   "outputs": [
    {
     "name": "stdout",
     "output_type": "stream",
     "text": [
      "Enter the number: 32\n",
      "Its positive number\n"
     ]
    }
   ],
   "source": [
    "num=int(input(\"Enter the number: \"))\n",
    "if num>=1:\n",
    "    print(\"Its positive number\")\n",
    "else:\n",
    "    print(\"Its negative number\")"
   ]
  },
  {
   "cell_type": "code",
   "execution_count": 15,
   "id": "722cf53f",
   "metadata": {},
   "outputs": [
    {
     "name": "stdout",
     "output_type": "stream",
     "text": [
      "Enter the number to check: 5\n",
      "Its divisible\n"
     ]
    }
   ],
   "source": [
    "num=int(input(\"Enter the number to check: \"))\n",
    "if num%5==0:\n",
    "    print(\"Its divisible\")\n",
    "else:\n",
    "    print(\"No\")"
   ]
  },
  {
   "cell_type": "code",
   "execution_count": null,
   "id": "98a3b9d1",
   "metadata": {},
   "outputs": [],
   "source": []
  }
 ],
 "metadata": {
  "kernelspec": {
   "display_name": "Python 3 (ipykernel)",
   "language": "python",
   "name": "python3"
  },
  "language_info": {
   "codemirror_mode": {
    "name": "ipython",
    "version": 3
   },
   "file_extension": ".py",
   "mimetype": "text/x-python",
   "name": "python",
   "nbconvert_exporter": "python",
   "pygments_lexer": "ipython3",
   "version": "3.9.13"
  }
 },
 "nbformat": 4,
 "nbformat_minor": 5
}
