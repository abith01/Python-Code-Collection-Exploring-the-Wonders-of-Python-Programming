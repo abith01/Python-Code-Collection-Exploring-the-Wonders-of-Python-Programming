{
 "cells": [
  {
   "cell_type": "code",
   "execution_count": 3,
   "metadata": {},
   "outputs": [],
   "source": [
    "class Node:\n",
    "    def __init__(self, key):\n",
    "        self.key = key\n",
    "        self.left = None\n",
    "        self.right = None\n",
    "def inorder(root):\n",
    "        if root is not None:\n",
    "            inorder(root.left)\n",
    "            print(str(root.key), end=' ')\n",
    "            inorder(root.right)\n",
    "def insert(node, key):\n",
    "        if node is None:\n",
    "            return Node(key)\n",
    "        if key < node.key:\n",
    "            node.left = insert(node.left, key)\n",
    "        else:\n",
    "            node.right = insert(node.right, key)\n",
    "        return node\n",
    "def search(root,value):\n",
    "        if root==None:\n",
    "            return False\n",
    "        elif root.key==value:\n",
    "            return True\n",
    "        elif root.key <value:\n",
    "            return search(root.right,value)\n",
    "        else:\n",
    "            return search(root.left,value)\n",
    "def findLargestElement(root):\n",
    "        if root==None:\n",
    "            return False\n",
    "        elif root.right==None:\n",
    "            return root.key\n",
    "        else:\n",
    "            return findLargestElement(root.right)\n",
    "def findSmallestElement(root):\n",
    "        if root==None:\n",
    "            return False\n",
    "        elif root.left==None:\n",
    "            return root.key\n",
    "        else:\n",
    "            return findSmallestElement(root.left)\n",
    "def deleteNode(root, key):\n",
    "        if root is None:\n",
    "            return root\n",
    "        if key < root.key:\n",
    "            root.left = deleteNode(root.left, key)\n",
    "        elif(key > root.key):\n",
    "            root.right = deleteNode(root.right, key)\n",
    "        else:\n",
    "            if root.left is None:\n",
    "                temp = root.right\n",
    "                root = None\n",
    "                return temp\n",
    "            elif root.right is None:\n",
    "                temp = root.left\n",
    "                root = None\n",
    "                return temp\n",
    "            temp = minValueNode(root.right)\n",
    "            root.key = temp.key\n",
    "            root.right = deleteNode(root.right, temp.key)\n",
    "        return root\n",
    "    \n",
    "    \n"
   ]
  },
  {
   "cell_type": "code",
   "execution_count": 2,
   "metadata": {},
   "outputs": [
    {
     "name": "stdout",
     "output_type": "stream",
     "text": [
      "Inorder traversal:  11 16 23 112 134 134 144 172 \n",
      "Delete the number 110\n",
      "Inorder traversal after deletion:  16 23 112 134 134 144 172 \n",
      "The number 6 exist in the binary search tree\n",
      "The largest element in the Binary Serach Tree is:  172\n",
      "The Smallest element in the Binary Serach Tree is:  16\n"
     ]
    }
   ],
   "source": [
    "root = None\n",
    "root = insert(root, 23)\n",
    "root = insert(root, 134)\n",
    "root = insert(root, 112)\n",
    "root = insert(root, 16)\n",
    "root = insert(root, 172)\n",
    "root = insert(root, 11)\n",
    "root = insert(root, 134)\n",
    "root = insert(root, 144)\n",
    "print(\"Inorder traversal: \", end=' ')\n",
    "inorder(root)\n",
    "print(\"\\nDelete the number 110\")\n",
    "root = deleteNode(root, 11)\n",
    "print(\"Inorder traversal after deletion: \", end=' ')\n",
    "inorder(root)\n",
    "S = search(root,16)\n",
    "if S==True:\n",
    "    print(\"\\nThe number 6 exist in the binary search tree\")\n",
    "print(\"The largest element in the Binary Serach Tree is: \",findLargestElement(root))\n",
    "print(\"The Smallest element in the Binary Serach Tree is: \",findSmallestElement(root))"
   ]
  },
  {
   "cell_type": "code",
   "execution_count": null,
   "metadata": {},
   "outputs": [],
   "source": []
  }
 ],
 "metadata": {
  "kernelspec": {
   "display_name": "Python 3 (ipykernel)",
   "language": "python",
   "name": "python3"
  },
  "language_info": {
   "codemirror_mode": {
    "name": "ipython",
    "version": 3
   },
   "file_extension": ".py",
   "mimetype": "text/x-python",
   "name": "python",
   "nbconvert_exporter": "python",
   "pygments_lexer": "ipython3",
   "version": "3.9.13"
  }
 },
 "nbformat": 4,
 "nbformat_minor": 4
}
